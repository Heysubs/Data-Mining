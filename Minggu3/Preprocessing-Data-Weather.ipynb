{
 "cells": [
  {
   "cell_type": "code",
   "execution_count": 2,
   "id": "bbc1f09b-bc05-4a66-a04d-e94d977a7e8a",
   "metadata": {},
   "outputs": [],
   "source": [
    "import numpy as np\n",
    "import matplotlib.pyplot as plt\n",
    "import pandas as pd"
   ]
  },
  {
   "cell_type": "code",
   "execution_count": 3,
   "id": "3911c210-1c97-47ed-9bc0-2937b3e83a63",
   "metadata": {},
   "outputs": [],
   "source": [
    "dataset = pd.read_csv('weather.csv')\n",
    "X = dataset.iloc[:, :-1].values\n",
    "y = dataset.iloc[:, -1].values"
   ]
  },
  {
   "cell_type": "code",
   "execution_count": 4,
   "id": "bbc4baf7-2a45-4fdd-bbbd-7fad333d9598",
   "metadata": {},
   "outputs": [
    {
     "name": "stdout",
     "output_type": "stream",
     "text": [
      "[[0 'Barisal' 1949 ... 22.7 90.36 4]\n",
      " [1 'Barisal' 1950 ... 22.7 90.36 4]\n",
      " [2 'Barisal' 1951 ... 22.7 90.36 4]\n",
      " ...\n",
      " [21117 'Teknaf' 2011 ... 20.87 92.26 4]\n",
      " [21118 'Teknaf' 2012 ... 20.87 92.26 4]\n",
      " [21119 'Teknaf' 2013 ... 20.87 92.26 4]]\n"
     ]
    }
   ],
   "source": [
    "print(X)"
   ]
  },
  {
   "cell_type": "code",
   "execution_count": 5,
   "id": "1efc9710-8b18-4bda-b224-e03c0fd3e77a",
   "metadata": {},
   "outputs": [
    {
     "name": "stdout",
     "output_type": "stream",
     "text": [
      "[1949.01 1950.01 1951.01 ... 2011.12 2012.12 2013.12]\n"
     ]
    }
   ],
   "source": [
    "print(y)"
   ]
  },
  {
   "cell_type": "code",
   "execution_count": 6,
   "id": "5b2059c7-c161-4434-a5fa-5a96705da713",
   "metadata": {},
   "outputs": [
    {
     "name": "stdout",
     "output_type": "stream",
     "text": [
      "<class 'pandas.core.frame.DataFrame'>\n",
      "RangeIndex: 21120 entries, 0 to 21119\n",
      "Data columns (total 18 columns):\n",
      " #   Column             Non-Null Count  Dtype  \n",
      "---  ------             --------------  -----  \n",
      " 0   Unnamed: 0         21120 non-null  int64  \n",
      " 1   Station Names      21120 non-null  object \n",
      " 2   YEAR               21120 non-null  int64  \n",
      " 3   Month              21120 non-null  int64  \n",
      " 4   Max Temp           21120 non-null  float64\n",
      " 5   Min Temp           21120 non-null  float64\n",
      " 6   Rainfall           21120 non-null  float64\n",
      " 7   Relative Humidity  21120 non-null  float64\n",
      " 8   Wind Speed         21119 non-null  float64\n",
      " 9   Cloud Coverage     21120 non-null  float64\n",
      " 10  Bright Sunshine    21118 non-null  float64\n",
      " 11  Station Number     21118 non-null  float64\n",
      " 12  X_COR              21119 non-null  float64\n",
      " 13  Y_COR              21119 non-null  float64\n",
      " 14  LATITUDE           21120 non-null  float64\n",
      " 15  LONGITUDE          21120 non-null  float64\n",
      " 16  ALT                21120 non-null  int64  \n",
      " 17  Period             21120 non-null  float64\n",
      "dtypes: float64(13), int64(4), object(1)\n",
      "memory usage: 2.9+ MB\n",
      "None\n"
     ]
    }
   ],
   "source": [
    "print(dataset.info())"
   ]
  },
  {
   "cell_type": "code",
   "execution_count": 7,
   "id": "7d9e2d72-b3d7-449c-bb65-75cc1a8ae946",
   "metadata": {},
   "outputs": [
    {
     "name": "stdout",
     "output_type": "stream",
     "text": [
      "Unnamed: 0           0\n",
      "Station Names        0\n",
      "YEAR                 0\n",
      "Month                0\n",
      "Max Temp             0\n",
      "Min Temp             0\n",
      "Rainfall             0\n",
      "Relative Humidity    0\n",
      "Wind Speed           1\n",
      "Cloud Coverage       0\n",
      "Bright Sunshine      2\n",
      "Station Number       2\n",
      "X_COR                1\n",
      "Y_COR                1\n",
      "LATITUDE             0\n",
      "LONGITUDE            0\n",
      "ALT                  0\n",
      "Period               0\n",
      "dtype: int64\n"
     ]
    }
   ],
   "source": [
    "print(dataset.isnull().sum())"
   ]
  },
  {
   "cell_type": "code",
   "execution_count": 8,
   "id": "6a3325f2-f507-4305-9697-c734f4d7b7a9",
   "metadata": {},
   "outputs": [],
   "source": [
    "from sklearn import linear_model\n",
    "from sklearn.preprocessing import StandardScaler\n",
    "scale = StandardScaler()"
   ]
  },
  {
   "cell_type": "code",
   "execution_count": 9,
   "id": "cd80efdf-5ce7-47b9-8f51-0b5ac82fbc8a",
   "metadata": {},
   "outputs": [
    {
     "name": "stdout",
     "output_type": "stream",
     "text": [
      "[[0 'Barisal' 1949 ... 22.7 90.36 4]\n",
      " [1 'Barisal' 1950 ... 22.7 90.36 4]\n",
      " [2 'Barisal' 1951 ... 22.7 90.36 4]\n",
      " ...\n",
      " [21117 'Teknaf' 2011 ... 20.87 92.26 4]\n",
      " [21118 'Teknaf' 2012 ... 20.87 92.26 4]\n",
      " [21119 'Teknaf' 2013 ... 20.87 92.26 4]]\n"
     ]
    }
   ],
   "source": [
    "print(X)"
   ]
  },
  {
   "cell_type": "code",
   "execution_count": 10,
   "id": "9ec5442e-1935-4892-a774-a2bb679af82b",
   "metadata": {},
   "outputs": [],
   "source": [
    "from sklearn.preprocessing import LabelEncoder\n",
    "# Encoding target \"Anaemic\" menggunakan LabelEncoder\n",
    "le = LabelEncoder()\n",
    "y = le.fit_transform(y)"
   ]
  },
  {
   "cell_type": "code",
   "execution_count": 11,
   "id": "76472ee1-3ed8-465e-8fb0-8f8e2982a323",
   "metadata": {},
   "outputs": [
    {
     "name": "stdout",
     "output_type": "stream",
     "text": [
      "[ 12  24  36 ... 767 779 791]\n"
     ]
    }
   ],
   "source": [
    "print(y)"
   ]
  },
  {
   "cell_type": "code",
   "execution_count": 12,
   "id": "92f6114f-7756-4ac6-be2d-b1f716c821a6",
   "metadata": {},
   "outputs": [],
   "source": [
    "from sklearn.model_selection import train_test_split\n",
    "\n",
    "# test_size = 0.2 berarti 20% dari data akan digunakan untuk pengujian\n",
    "# random_state = 0 untuk memastikan hasil yang konsisten setiap kali kode dijalankan\n",
    "X_train, X_test, y_train, y_test = train_test_split(X,y, test_size = 0.2, random_state = 0)"
   ]
  },
  {
   "cell_type": "code",
   "execution_count": 13,
   "id": "419a7815-7501-472f-a74d-16f732b72f66",
   "metadata": {},
   "outputs": [
    {
     "name": "stdout",
     "output_type": "stream",
     "text": [
      "[[4831 \"Cox's Bazar\" 1979 ... 21.46 91.98 4]\n",
      " [10708 'Khepupara' 1982 ... 21.98 90.22 3]\n",
      " [13884 'Mymensingh' 1948 ... 24.75 90.41 19]\n",
      " ...\n",
      " [9845 'Jessore' 1983 ... 23.17 89.22 7]\n",
      " [10799 'Khulna' 1995 ... 22.8 89.58 4]\n",
      " [2732 'Chandpur' 1998 ... 23.26 90.67 7]]\n"
     ]
    }
   ],
   "source": [
    "print(X_train)"
   ]
  },
  {
   "cell_type": "code",
   "execution_count": 14,
   "id": "a4ef88d1-c989-47c3-9505-13cb1b0644a4",
   "metadata": {},
   "outputs": [
    {
     "name": "stdout",
     "output_type": "stream",
     "text": [
      "[[8085 'Feni' 1995 ... 23.01 91.37 8]\n",
      " [5792 'Dhaka' 1980 ... 23.78 90.39 9]\n",
      " [18397 'Sitakunda' 2008 ... 22.64 91.64 4]\n",
      " ...\n",
      " [16321 'Rangpur' 1994 ... 25.72 89.26 34]\n",
      " [18394 'Sitakunda' 2005 ... 22.64 91.64 4]\n",
      " [5625 'Dhaka' 1996 ... 23.78 90.39 9]]\n"
     ]
    }
   ],
   "source": [
    "print(X_test)"
   ]
  },
  {
   "cell_type": "code",
   "execution_count": 15,
   "id": "1c589cdf-ec0e-4b5a-a844-ea6316eded67",
   "metadata": {},
   "outputs": [
    {
     "name": "stdout",
     "output_type": "stream",
     "text": [
      "[374 419   6 ... 425 564 611]\n"
     ]
    }
   ],
   "source": [
    "print(y_train)"
   ]
  },
  {
   "cell_type": "code",
   "execution_count": 16,
   "id": "3080e9a2-fd65-4463-b9cf-6537424b9faf",
   "metadata": {},
   "outputs": [
    {
     "name": "stdout",
     "output_type": "stream",
     "text": [
      "[571 389 726 ... 556 690 578]\n"
     ]
    }
   ],
   "source": [
    "print(y_test)"
   ]
  },
  {
   "cell_type": "code",
   "execution_count": 17,
   "id": "fd6a184a-49cc-44ae-b5d4-80155a144abd",
   "metadata": {},
   "outputs": [],
   "source": [
    "from sklearn.preprocessing import StandardScaler\n",
    "# Menerapkan standarisasi pada fitur numerik (mulai dari kolom ke-3)\n",
    "sc = StandardScaler()\n",
    "X_train[:, 2:] = sc.fit_transform(X_train[:, 2:]) \n",
    "X_test[:, 2:] = sc.transform(X_test[:, 2:])"
   ]
  },
  {
   "cell_type": "code",
   "execution_count": 18,
   "id": "256bff4c-7f1a-4179-b669-cc6fbd534783",
   "metadata": {},
   "outputs": [
    {
     "name": "stdout",
     "output_type": "stream",
     "text": [
      "[[4831 \"Cox's Bazar\" -0.3945087492951322 ... -1.6272317006135582\n",
      "  1.3582605509338226 -0.665478348950173]\n",
      " [10708 'Khepupara' -0.22375304102352359 ... -1.1825874214767567\n",
      "  -0.20331059682677896 -0.7395158169082822]\n",
      " [13884 'Mymensingh' -2.1589844014350876 ... 1.1859984500788985\n",
      "  -0.034731893375352874 0.44508367042146446]\n",
      " ...\n",
      " [9845 'Jessore' -0.16683447159965403 ... -0.16503609037522854\n",
      "  -1.0905669307816637 -0.4433659450758455]\n",
      " [10799 'Khulna' 0.5161883614867804 ... -0.48141759668410755\n",
      "  -0.7711546505579057 -0.665478348950173]\n",
      " [2732 'Chandpur' 0.686944069758389 ... -0.08807842667847451\n",
      "  0.19595475345292168 -0.4433659450758455]]\n"
     ]
    }
   ],
   "source": [
    "print(X_train)"
   ]
  },
  {
   "cell_type": "code",
   "execution_count": 19,
   "id": "6699c757-3ec1-4b72-a745-3c34b270ad6d",
   "metadata": {},
   "outputs": [
    {
     "name": "stdout",
     "output_type": "stream",
     "text": [
      "[[8085 'Feni' 0.5161883614867804 ... -0.3018497147250138\n",
      "  0.8170341872213435 -0.3693284771177363]\n",
      " [5792 'Dhaka' -0.33759017987126266 ... 0.3565658524583269\n",
      "  -0.052477020054447036 -0.29529100915962714]\n",
      " [18397 'Sitakunda' 1.2561297639970843 ... -0.6182312210338928\n",
      "  1.0565933973891588 -0.665478348950173]\n",
      " ...\n",
      " [16321 'Rangpur' 0.45926979206291085 ... 2.01543104769947\n",
      "  -1.0550766774234628 1.555645689793102]\n",
      " [18394 'Sitakunda' 1.0853740557254756 ... -0.6182312210338928\n",
      "  1.0565933973891588 -0.665478348950173]\n",
      " [5625 'Dhaka' 0.5731069309106499 ... 0.3565658524583269\n",
      "  -0.052477020054447036 -0.29529100915962714]]\n"
     ]
    }
   ],
   "source": [
    "print(X_test)"
   ]
  },
  {
   "cell_type": "code",
   "execution_count": null,
   "id": "5f4e0c46-e193-4434-9ddc-471468a92eb0",
   "metadata": {},
   "outputs": [],
   "source": []
  }
 ],
 "metadata": {
  "kernelspec": {
   "display_name": "Python 3 (ipykernel)",
   "language": "python",
   "name": "python3"
  },
  "language_info": {
   "codemirror_mode": {
    "name": "ipython",
    "version": 3
   },
   "file_extension": ".py",
   "mimetype": "text/x-python",
   "name": "python",
   "nbconvert_exporter": "python",
   "pygments_lexer": "ipython3",
   "version": "3.11.9"
  }
 },
 "nbformat": 4,
 "nbformat_minor": 5
}
